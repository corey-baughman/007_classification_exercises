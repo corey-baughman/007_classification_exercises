{
 "cells": [
  {
   "cell_type": "markdown",
   "id": "f545ad71-d3e3-41ce-bc92-ed46684df6d4",
   "metadata": {},
   "source": [
    "# KNN Model Exercises"
   ]
  },
  {
   "cell_type": "markdown",
   "id": "3903c1f7-eaa9-4216-9fc7-d91946fd0646",
   "metadata": {},
   "source": [
    "#### Create a new notebook, knn_model, and work with the titanic dataset to answer the following:\n",
    "\n"
   ]
  },
  {
   "cell_type": "code",
   "execution_count": null,
   "id": "bb2bd805-1534-4e8f-af7e-683eefca8c74",
   "metadata": {},
   "outputs": [],
   "source": []
  },
  {
   "cell_type": "markdown",
   "id": "25910b85-8e5d-48e6-935c-a2d7c1dec44b",
   "metadata": {},
   "source": [
    "##### 1. Fit a K-Nearest Neighbors classifier to your training sample and transform (i.e. make predictions on the training sample)\n",
    "\n"
   ]
  },
  {
   "cell_type": "code",
   "execution_count": null,
   "id": "1a794003-3726-440b-bf25-51442117ee08",
   "metadata": {},
   "outputs": [],
   "source": []
  },
  {
   "cell_type": "markdown",
   "id": "c694cff6-5276-4cd3-85a8-db06de03b2ee",
   "metadata": {},
   "source": [
    "##### 2. Evaluate your results using the model score, confusion matrix, and classification report.\n",
    "\n"
   ]
  },
  {
   "cell_type": "code",
   "execution_count": null,
   "id": "05ac5df2-7f8a-4455-aeb4-541a773c238d",
   "metadata": {},
   "outputs": [],
   "source": []
  },
  {
   "cell_type": "markdown",
   "id": "b960df80-182e-4f97-bec0-0195dfe2e3c0",
   "metadata": {},
   "source": [
    "##### 3. Print and clearly label the following: Accuracy, true positive rate, false positive rate, true negative rate, false negative rate, precision, recall, f1-score, and support.\n",
    "\n"
   ]
  },
  {
   "cell_type": "code",
   "execution_count": null,
   "id": "2a74a57d-7b3c-475c-9322-b11cec368a47",
   "metadata": {},
   "outputs": [],
   "source": []
  },
  {
   "cell_type": "markdown",
   "id": "f5609868-1004-4b78-9d5e-6535e5b0495d",
   "metadata": {},
   "source": [
    "##### 4. Run through steps 1-3 setting k to 10\n",
    "\n"
   ]
  },
  {
   "cell_type": "code",
   "execution_count": null,
   "id": "ddae8dee-dbac-4dca-87f2-580b02280433",
   "metadata": {},
   "outputs": [],
   "source": []
  },
  {
   "cell_type": "markdown",
   "id": "494261a9-0aca-4e13-aa67-0c1e2842571b",
   "metadata": {},
   "source": [
    "##### 5. Run through steps 1-3 setting k to 20\n",
    "\n"
   ]
  },
  {
   "cell_type": "code",
   "execution_count": null,
   "id": "56ef3c64-2fa3-41d8-a273-e7aac262ace3",
   "metadata": {},
   "outputs": [],
   "source": []
  },
  {
   "cell_type": "markdown",
   "id": "bc7b5b4b-b067-4696-8a01-33c16995426b",
   "metadata": {},
   "source": [
    "##### 6. What are the differences in the evaluation metrics? Which performs better on your in-sample data? Why?\n",
    "\n"
   ]
  },
  {
   "cell_type": "code",
   "execution_count": null,
   "id": "15459d97-d36d-400b-a748-b98f900d3f68",
   "metadata": {},
   "outputs": [],
   "source": []
  },
  {
   "cell_type": "markdown",
   "id": "eea4b3ca-6715-4c21-8adc-537a77ba0d01",
   "metadata": {},
   "source": [
    "##### 7. Which model performs best on our out-of-sample data from validate?\n",
    "\n"
   ]
  },
  {
   "cell_type": "code",
   "execution_count": null,
   "id": "fc5a6e51-eea6-4be2-82a9-62340db0da9a",
   "metadata": {},
   "outputs": [],
   "source": []
  }
 ],
 "metadata": {
  "kernelspec": {
   "display_name": "Python 3 (ipykernel)",
   "language": "python",
   "name": "python3"
  },
  "language_info": {
   "codemirror_mode": {
    "name": "ipython",
    "version": 3
   },
   "file_extension": ".py",
   "mimetype": "text/x-python",
   "name": "python",
   "nbconvert_exporter": "python",
   "pygments_lexer": "ipython3",
   "version": "3.9.13"
  }
 },
 "nbformat": 4,
 "nbformat_minor": 5
}
