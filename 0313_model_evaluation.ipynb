{
 "cells": [
  {
   "cell_type": "markdown",
   "id": "504f5ae8",
   "metadata": {},
   "source": [
    "# Evaluating Model Performance Exercises"
   ]
  },
  {
   "cell_type": "code",
   "execution_count": 27,
   "id": "d49320b6",
   "metadata": {},
   "outputs": [],
   "source": [
    "import numpy as np\n",
    "import seaborn as sns\n",
    "import scipy.stats as stats\n",
    "import pandas as pd\n",
    "import matplotlib.pyplot as plt\n",
    "import itertools\n",
    "# import env\n",
    "from math import sqrt\n",
    "# to turn off pink warning boxes basically for display purposes in class\n",
    "import warnings\n",
    "warnings.filterwarnings('ignore')\n",
    "\n",
    "# import splitting and imputing functions\n",
    "from sklearn.model_selection import train_test_split\n",
    "from sklearn.impute import SimpleImputer\n",
    "\n",
    "# confusion matrix\n",
    "import sklearn.metrics\n",
    "\n",
    "# to see local file system\n",
    "import os\n",
    "\n",
    "# import our own acquire module\n",
    "import acquire"
   ]
  },
  {
   "cell_type": "markdown",
   "id": "cbd609c5",
   "metadata": {},
   "source": [
    "#### 2. Given the following confusion matrix, evaluate (by hand) the model's performance.\n",
    "\n"
   ]
  },
  {
   "cell_type": "code",
   "execution_count": null,
   "id": "28f310ab",
   "metadata": {},
   "outputs": [],
   "source": [
    "|               | pred dog   | pred cat   |\n",
    "|:------------  |-----------:|-----------:|\n",
    "| actual dog    |         46 |         7  |\n",
    "| actual cat    |         13 |         34 |\n"
   ]
  },
  {
   "cell_type": "markdown",
   "id": "569d5b7f",
   "metadata": {},
   "source": [
    "- In the context of this problem, what is a false positive?\n",
    "\n",
    "First, I would need to choose what constitutes a positive result. In this case I choose 'dog' as positive and 'cat' as negative. Then a false positive would be where the model predicted a positive(dog), but the actual value was a negative(cat)\n"
   ]
  },
  {
   "cell_type": "markdown",
   "id": "e8abd007",
   "metadata": {},
   "source": [
    "- In the context of this problem, what is a false negative?\n",
    "\n",
    "A false negative would be where the model predicted a negative(cat) and the actual value was a positive(dog)\n"
   ]
  },
  {
   "cell_type": "markdown",
   "id": "6cacd665",
   "metadata": {},
   "source": [
    "- How would you describe this model?\n",
    "\n",
    "The model is 80% accurate compared to 53% for the baseline model. It is a relatively accurate model\n"
   ]
  },
  {
   "cell_type": "markdown",
   "id": "5a5906ae",
   "metadata": {},
   "source": [
    "#### 3. You are working as a data scientist working for Codeup Cody Creator (C3 for short), a rubber-duck manufacturing plant. Unfortunately, some of the rubber ducks that are produced will have defects. Your team has built several models that try to predict those defects, and the data from their predictions can be found here. Use the predictions dataset and pandas to help answer the following questions:\n"
   ]
  },
  {
   "cell_type": "markdown",
   "id": "1d80a77f",
   "metadata": {},
   "source": [
    "- An internal team wants to investigate the cause of the manufacturing defects. They tell you that they want to identify as many of the ducks that have a defect as possible. Which evaluation metric would be appropriate here? \n",
    "\n",
    "In this case, it is likely that the percentage of ducks with defects is a much smaller class than those without defects. Also, it is likely more important to this company to catch all of the defects, even if that results in more false positives(detecting a defect when there is none. So, for this project, I will assign positive to 'has a defect' and negative to 'no defects'. I want to maximize the amount of True Positive detections so the metric I will use is Recall which measures the number of True Positives(correctly predicted defects) against the total actual positives(TP + FN).\n",
    "\n",
    "- Which model would be the best fit for this use case?\n",
    "\n",
    "model2 and model3 tie for best with a recall of .5625"
   ]
  },
  {
   "cell_type": "code",
   "execution_count": 5,
   "id": "c81f564b",
   "metadata": {},
   "outputs": [
    {
     "data": {
      "text/html": [
       "<div>\n",
       "<style scoped>\n",
       "    .dataframe tbody tr th:only-of-type {\n",
       "        vertical-align: middle;\n",
       "    }\n",
       "\n",
       "    .dataframe tbody tr th {\n",
       "        vertical-align: top;\n",
       "    }\n",
       "\n",
       "    .dataframe thead th {\n",
       "        text-align: right;\n",
       "    }\n",
       "</style>\n",
       "<table border=\"1\" class=\"dataframe\">\n",
       "  <thead>\n",
       "    <tr style=\"text-align: right;\">\n",
       "      <th></th>\n",
       "      <th>actual</th>\n",
       "      <th>model1</th>\n",
       "      <th>model2</th>\n",
       "      <th>model3</th>\n",
       "    </tr>\n",
       "  </thead>\n",
       "  <tbody>\n",
       "    <tr>\n",
       "      <th>0</th>\n",
       "      <td>No Defect</td>\n",
       "      <td>No Defect</td>\n",
       "      <td>Defect</td>\n",
       "      <td>No Defect</td>\n",
       "    </tr>\n",
       "    <tr>\n",
       "      <th>1</th>\n",
       "      <td>No Defect</td>\n",
       "      <td>No Defect</td>\n",
       "      <td>Defect</td>\n",
       "      <td>Defect</td>\n",
       "    </tr>\n",
       "    <tr>\n",
       "      <th>2</th>\n",
       "      <td>No Defect</td>\n",
       "      <td>No Defect</td>\n",
       "      <td>Defect</td>\n",
       "      <td>No Defect</td>\n",
       "    </tr>\n",
       "    <tr>\n",
       "      <th>3</th>\n",
       "      <td>No Defect</td>\n",
       "      <td>Defect</td>\n",
       "      <td>Defect</td>\n",
       "      <td>Defect</td>\n",
       "    </tr>\n",
       "    <tr>\n",
       "      <th>4</th>\n",
       "      <td>No Defect</td>\n",
       "      <td>No Defect</td>\n",
       "      <td>Defect</td>\n",
       "      <td>No Defect</td>\n",
       "    </tr>\n",
       "    <tr>\n",
       "      <th>...</th>\n",
       "      <td>...</td>\n",
       "      <td>...</td>\n",
       "      <td>...</td>\n",
       "      <td>...</td>\n",
       "    </tr>\n",
       "    <tr>\n",
       "      <th>195</th>\n",
       "      <td>No Defect</td>\n",
       "      <td>No Defect</td>\n",
       "      <td>Defect</td>\n",
       "      <td>Defect</td>\n",
       "    </tr>\n",
       "    <tr>\n",
       "      <th>196</th>\n",
       "      <td>Defect</td>\n",
       "      <td>Defect</td>\n",
       "      <td>No Defect</td>\n",
       "      <td>No Defect</td>\n",
       "    </tr>\n",
       "    <tr>\n",
       "      <th>197</th>\n",
       "      <td>No Defect</td>\n",
       "      <td>No Defect</td>\n",
       "      <td>No Defect</td>\n",
       "      <td>No Defect</td>\n",
       "    </tr>\n",
       "    <tr>\n",
       "      <th>198</th>\n",
       "      <td>No Defect</td>\n",
       "      <td>No Defect</td>\n",
       "      <td>Defect</td>\n",
       "      <td>Defect</td>\n",
       "    </tr>\n",
       "    <tr>\n",
       "      <th>199</th>\n",
       "      <td>No Defect</td>\n",
       "      <td>No Defect</td>\n",
       "      <td>No Defect</td>\n",
       "      <td>Defect</td>\n",
       "    </tr>\n",
       "  </tbody>\n",
       "</table>\n",
       "<p>200 rows × 4 columns</p>\n",
       "</div>"
      ],
      "text/plain": [
       "        actual     model1     model2     model3\n",
       "0    No Defect  No Defect     Defect  No Defect\n",
       "1    No Defect  No Defect     Defect     Defect\n",
       "2    No Defect  No Defect     Defect  No Defect\n",
       "3    No Defect     Defect     Defect     Defect\n",
       "4    No Defect  No Defect     Defect  No Defect\n",
       "..         ...        ...        ...        ...\n",
       "195  No Defect  No Defect     Defect     Defect\n",
       "196     Defect     Defect  No Defect  No Defect\n",
       "197  No Defect  No Defect  No Defect  No Defect\n",
       "198  No Defect  No Defect     Defect     Defect\n",
       "199  No Defect  No Defect  No Defect     Defect\n",
       "\n",
       "[200 rows x 4 columns]"
      ]
     },
     "execution_count": 5,
     "metadata": {},
     "output_type": "execute_result"
    }
   ],
   "source": [
    "duck_df = pd.read_csv('c3.csv')\n",
    "duck_df"
   ]
  },
  {
   "cell_type": "code",
   "execution_count": 13,
   "id": "2b8ad30d",
   "metadata": {},
   "outputs": [
    {
     "data": {
      "text/plain": [
       "(0.5, 0.5625, 0.5625)"
      ]
     },
     "execution_count": 13,
     "metadata": {},
     "output_type": "execute_result"
    }
   ],
   "source": [
    "# Recall metric needs True Positives in numerator so subset is the True Positives:\n",
    "\n",
    "duck_subset = duck_df[duck_df.actual == 'Defect']\n",
    "\n",
    "tp_1_recall = (duck_subset.model1 == duck_subset.actual).mean()\n",
    "tp_1_recall\n",
    "\n",
    "tp_2_recall = (duck_subset.model2 == duck_subset.actual).mean()\n",
    "\n",
    "tp_3_recall = (duck_subset.model2 == duck_subset.actual).mean()\n",
    "\n",
    "tp_1_recall, tp_2_recall, tp_3_recall\n"
   ]
  },
  {
   "cell_type": "markdown",
   "id": "9c2d3b4c",
   "metadata": {},
   "source": [
    "#### 4. You are working as a data scientist for Gives You Paws ™, a subscription based service that shows you cute pictures of dogs or cats (or both for an additional fee). At Gives You Paws, anyone can upload pictures of their cats or dogs. The photos are then put through a two step process. First an automated algorithm tags pictures as either a cat or a dog (Phase I). Next, the photos that have been initially identified are put through another round of review, possibly with some human oversight, before being presented to the users (Phase II). Several models have already been developed with the data, and you can find their results here. Given this dataset, use pandas to create a baseline model (i.e. a model that just predicts the most common class) and answer the following questions:\n",
    "\n"
   ]
  },
  {
   "cell_type": "markdown",
   "id": "80719b22",
   "metadata": {},
   "source": [
    "##### a. In terms of accuracy, how do the various models compare to the baseline model? Are any of the models better than the baseline? \n",
    "\n",
    "Model1 is the most accurate at .8074. Models 1 and 4 both beat baseline.\n"
   ]
  },
  {
   "cell_type": "code",
   "execution_count": 15,
   "id": "e28b5767",
   "metadata": {},
   "outputs": [
    {
     "data": {
      "text/html": [
       "<div>\n",
       "<style scoped>\n",
       "    .dataframe tbody tr th:only-of-type {\n",
       "        vertical-align: middle;\n",
       "    }\n",
       "\n",
       "    .dataframe tbody tr th {\n",
       "        vertical-align: top;\n",
       "    }\n",
       "\n",
       "    .dataframe thead th {\n",
       "        text-align: right;\n",
       "    }\n",
       "</style>\n",
       "<table border=\"1\" class=\"dataframe\">\n",
       "  <thead>\n",
       "    <tr style=\"text-align: right;\">\n",
       "      <th></th>\n",
       "      <th>actual</th>\n",
       "      <th>model1</th>\n",
       "      <th>model2</th>\n",
       "      <th>model3</th>\n",
       "      <th>model4</th>\n",
       "    </tr>\n",
       "  </thead>\n",
       "  <tbody>\n",
       "    <tr>\n",
       "      <th>0</th>\n",
       "      <td>cat</td>\n",
       "      <td>cat</td>\n",
       "      <td>dog</td>\n",
       "      <td>cat</td>\n",
       "      <td>dog</td>\n",
       "    </tr>\n",
       "    <tr>\n",
       "      <th>1</th>\n",
       "      <td>dog</td>\n",
       "      <td>dog</td>\n",
       "      <td>cat</td>\n",
       "      <td>cat</td>\n",
       "      <td>dog</td>\n",
       "    </tr>\n",
       "    <tr>\n",
       "      <th>2</th>\n",
       "      <td>dog</td>\n",
       "      <td>cat</td>\n",
       "      <td>cat</td>\n",
       "      <td>cat</td>\n",
       "      <td>dog</td>\n",
       "    </tr>\n",
       "    <tr>\n",
       "      <th>3</th>\n",
       "      <td>dog</td>\n",
       "      <td>dog</td>\n",
       "      <td>dog</td>\n",
       "      <td>cat</td>\n",
       "      <td>dog</td>\n",
       "    </tr>\n",
       "    <tr>\n",
       "      <th>4</th>\n",
       "      <td>cat</td>\n",
       "      <td>cat</td>\n",
       "      <td>cat</td>\n",
       "      <td>dog</td>\n",
       "      <td>dog</td>\n",
       "    </tr>\n",
       "    <tr>\n",
       "      <th>...</th>\n",
       "      <td>...</td>\n",
       "      <td>...</td>\n",
       "      <td>...</td>\n",
       "      <td>...</td>\n",
       "      <td>...</td>\n",
       "    </tr>\n",
       "    <tr>\n",
       "      <th>4995</th>\n",
       "      <td>dog</td>\n",
       "      <td>dog</td>\n",
       "      <td>dog</td>\n",
       "      <td>dog</td>\n",
       "      <td>dog</td>\n",
       "    </tr>\n",
       "    <tr>\n",
       "      <th>4996</th>\n",
       "      <td>dog</td>\n",
       "      <td>dog</td>\n",
       "      <td>cat</td>\n",
       "      <td>cat</td>\n",
       "      <td>dog</td>\n",
       "    </tr>\n",
       "    <tr>\n",
       "      <th>4997</th>\n",
       "      <td>dog</td>\n",
       "      <td>cat</td>\n",
       "      <td>cat</td>\n",
       "      <td>dog</td>\n",
       "      <td>dog</td>\n",
       "    </tr>\n",
       "    <tr>\n",
       "      <th>4998</th>\n",
       "      <td>cat</td>\n",
       "      <td>cat</td>\n",
       "      <td>cat</td>\n",
       "      <td>cat</td>\n",
       "      <td>dog</td>\n",
       "    </tr>\n",
       "    <tr>\n",
       "      <th>4999</th>\n",
       "      <td>dog</td>\n",
       "      <td>dog</td>\n",
       "      <td>dog</td>\n",
       "      <td>dog</td>\n",
       "      <td>dog</td>\n",
       "    </tr>\n",
       "  </tbody>\n",
       "</table>\n",
       "<p>5000 rows × 5 columns</p>\n",
       "</div>"
      ],
      "text/plain": [
       "     actual model1 model2 model3 model4\n",
       "0       cat    cat    dog    cat    dog\n",
       "1       dog    dog    cat    cat    dog\n",
       "2       dog    cat    cat    cat    dog\n",
       "3       dog    dog    dog    cat    dog\n",
       "4       cat    cat    cat    dog    dog\n",
       "...     ...    ...    ...    ...    ...\n",
       "4995    dog    dog    dog    dog    dog\n",
       "4996    dog    dog    cat    cat    dog\n",
       "4997    dog    cat    cat    dog    dog\n",
       "4998    cat    cat    cat    cat    dog\n",
       "4999    dog    dog    dog    dog    dog\n",
       "\n",
       "[5000 rows x 5 columns]"
      ]
     },
     "execution_count": 15,
     "metadata": {},
     "output_type": "execute_result"
    }
   ],
   "source": [
    "paws_df = pd.read_csv('gives_you_paws.csv')\n",
    "paws_df"
   ]
  },
  {
   "cell_type": "code",
   "execution_count": 17,
   "id": "1e777374",
   "metadata": {},
   "outputs": [
    {
     "data": {
      "text/html": [
       "<div>\n",
       "<style scoped>\n",
       "    .dataframe tbody tr th:only-of-type {\n",
       "        vertical-align: middle;\n",
       "    }\n",
       "\n",
       "    .dataframe tbody tr th {\n",
       "        vertical-align: top;\n",
       "    }\n",
       "\n",
       "    .dataframe thead th {\n",
       "        text-align: right;\n",
       "    }\n",
       "</style>\n",
       "<table border=\"1\" class=\"dataframe\">\n",
       "  <thead>\n",
       "    <tr style=\"text-align: right;\">\n",
       "      <th></th>\n",
       "      <th>actual</th>\n",
       "      <th>model1</th>\n",
       "      <th>model2</th>\n",
       "      <th>model3</th>\n",
       "      <th>model4</th>\n",
       "    </tr>\n",
       "  </thead>\n",
       "  <tbody>\n",
       "    <tr>\n",
       "      <th>count</th>\n",
       "      <td>5000</td>\n",
       "      <td>5000</td>\n",
       "      <td>5000</td>\n",
       "      <td>5000</td>\n",
       "      <td>5000</td>\n",
       "    </tr>\n",
       "    <tr>\n",
       "      <th>unique</th>\n",
       "      <td>2</td>\n",
       "      <td>2</td>\n",
       "      <td>2</td>\n",
       "      <td>2</td>\n",
       "      <td>2</td>\n",
       "    </tr>\n",
       "    <tr>\n",
       "      <th>top</th>\n",
       "      <td>dog</td>\n",
       "      <td>dog</td>\n",
       "      <td>cat</td>\n",
       "      <td>dog</td>\n",
       "      <td>dog</td>\n",
       "    </tr>\n",
       "    <tr>\n",
       "      <th>freq</th>\n",
       "      <td>3254</td>\n",
       "      <td>2937</td>\n",
       "      <td>3212</td>\n",
       "      <td>2508</td>\n",
       "      <td>4253</td>\n",
       "    </tr>\n",
       "  </tbody>\n",
       "</table>\n",
       "</div>"
      ],
      "text/plain": [
       "       actual model1 model2 model3 model4\n",
       "count    5000   5000   5000   5000   5000\n",
       "unique      2      2      2      2      2\n",
       "top       dog    dog    cat    dog    dog\n",
       "freq     3254   2937   3212   2508   4253"
      ]
     },
     "execution_count": 17,
     "metadata": {},
     "output_type": "execute_result"
    }
   ],
   "source": [
    "paws_df.describe()"
   ]
  },
  {
   "cell_type": "code",
   "execution_count": 19,
   "id": "d1ff416b",
   "metadata": {},
   "outputs": [],
   "source": [
    "paws_df['baseline'] = 'dog'"
   ]
  },
  {
   "cell_type": "code",
   "execution_count": 21,
   "id": "d9ac793d",
   "metadata": {},
   "outputs": [
    {
     "data": {
      "text/plain": [
       "(0.8074, 0.6304, 0.5096, 0.7426, 0.6508)"
      ]
     },
     "execution_count": 21,
     "metadata": {},
     "output_type": "execute_result"
    }
   ],
   "source": [
    "\n",
    "paws_m1_acc = (paws_df.model1 == paws_df.actual).mean()\n",
    "paws_m2_acc = (paws_df.model2 == paws_df.actual).mean()\n",
    "paws_m3_acc = (paws_df.model3 == paws_df.actual).mean()\n",
    "paws_m4_acc = (paws_df.model4 == paws_df.actual).mean()\n",
    "paws_base_acc = (paws_df.baseline == paws_df.actual).mean()\n",
    "paws_m1_acc, paws_m2_acc, paws_m3_acc, paws_m4_acc, paws_base_acc"
   ]
  },
  {
   "cell_type": "markdown",
   "id": "de69aa46",
   "metadata": {},
   "source": [
    "##### b. Suppose you are working on a team that solely deals with dog pictures. Which of these models would you recommend?\n",
    "\n",
    "Accuracy is probably a pretty good indicator as the classes are not terribly balanced at 65% dogs %35 cats. Maybe for our dog team though, we would want to know the precision of specifically identifying dogs.\n",
    "\n",
    "I would recommend model2 as it is the most precise at 0.8931, but model1 may be better overall with a 0.8900 precision, but a much higher accuracy."
   ]
  },
  {
   "cell_type": "code",
   "execution_count": 24,
   "id": "9e99228c",
   "metadata": {},
   "outputs": [
    {
     "data": {
      "text/plain": [
       "(0.8900238338440586,\n",
       " 0.8931767337807607,\n",
       " 0.6598883572567783,\n",
       " 0.7312485304490948,\n",
       " 0.6508)"
      ]
     },
     "execution_count": 24,
     "metadata": {},
     "output_type": "execute_result"
    }
   ],
   "source": [
    "paws_sub_pre_1 = paws_df[paws_df.model1 == 'dog']\n",
    "paws_sub_pre_2 = paws_df[paws_df.model2 == 'dog']\n",
    "paws_sub_pre_3 = paws_df[paws_df.model3 == 'dog']\n",
    "paws_sub_pre_4 = paws_df[paws_df.model4 == 'dog']\n",
    "paws_sub_pre_b = paws_df[paws_df.baseline == 'dog']\n",
    "\n",
    "paws_pre_1 = (paws_sub_pre_1.model1 == paws_sub_pre_1.actual).mean()\n",
    "paws_pre_2 = (paws_sub_pre_2.model2 == paws_sub_pre_2.actual).mean()\n",
    "paws_pre_3 = (paws_sub_pre_3.model3 == paws_sub_pre_3.actual).mean()\n",
    "paws_pre_4 = (paws_sub_pre_4.model4 == paws_sub_pre_4.actual).mean()\n",
    "paws_pre_b = (paws_sub_pre_b.baseline == paws_sub_pre_b.actual).mean()\n",
    "\n",
    "paws_pre_1, paws_pre_2, paws_pre_3, paws_pre_4, paws_pre_b"
   ]
  },
  {
   "cell_type": "markdown",
   "id": "9f968fb4",
   "metadata": {},
   "source": [
    "##### c. Suppose you are working on a team that solely deals with cat pictures. Which of these models would you recommend?\n",
    "\n",
    "We would want to know the precision of specifically identifying cats.\n",
    "\n",
    "I would recommend model4 as it is the most precise at 0.8072, but model1 may be better overall with a 0.6898 precision, but a somewhat higher accuracy.\n"
   ]
  },
  {
   "cell_type": "code",
   "execution_count": 26,
   "id": "1490f1d7",
   "metadata": {},
   "outputs": [
    {
     "data": {
      "text/plain": [
       "(0.6897721764420747,\n",
       " 0.4841220423412204,\n",
       " 0.358346709470305,\n",
       " 0.8072289156626506,\n",
       " nan)"
      ]
     },
     "execution_count": 26,
     "metadata": {},
     "output_type": "execute_result"
    }
   ],
   "source": [
    "# success is now cat, so we will reverse the precision calcs.\n",
    "\n",
    "paws_sub_pre_1c = paws_df[paws_df.model1 == 'cat']\n",
    "paws_sub_pre_2c = paws_df[paws_df.model2 == 'cat']\n",
    "paws_sub_pre_3c = paws_df[paws_df.model3 == 'cat']\n",
    "paws_sub_pre_4c = paws_df[paws_df.model4 == 'cat']\n",
    "\n",
    "paws_pre_1c = (paws_sub_pre_1c.model1 == paws_sub_pre_1c.actual).mean()\n",
    "paws_pre_2c = (paws_sub_pre_2c.model2 == paws_sub_pre_2c.actual).mean()\n",
    "paws_pre_3c = (paws_sub_pre_3c.model3 == paws_sub_pre_3c.actual).mean()\n",
    "paws_pre_4c = (paws_sub_pre_4c.model4 == paws_sub_pre_4c.actual).mean()\n",
    "\n",
    "paws_pre_1c, paws_pre_2c, paws_pre_3c, paws_pre_4c"
   ]
  },
  {
   "cell_type": "markdown",
   "id": "849ad6e4",
   "metadata": {},
   "source": [
    "##### 5. Follow the links below to read the documentation about each function, then apply those functions to the data from the previous problem.\n",
    "\n"
   ]
  },
  {
   "cell_type": "code",
   "execution_count": 34,
   "id": "90cb5448",
   "metadata": {},
   "outputs": [
    {
     "data": {
      "text/plain": [
       "(0.8074, 0.6304, 0.5096, 0.7426, 0.6508)"
      ]
     },
     "execution_count": 34,
     "metadata": {},
     "output_type": "execute_result"
    }
   ],
   "source": [
    "# sklearn.metrics.accuracy_score\n",
    "paw_acc_1 = sklearn.metrics.accuracy_score(paws_df.actual, paws_df.model1, normalize=True)\n",
    "paw_acc_2 = sklearn.metrics.accuracy_score(paws_df.actual, paws_df.model2, normalize=True)\n",
    "paw_acc_3 = sklearn.metrics.accuracy_score(paws_df.actual, paws_df.model3, normalize=True)\n",
    "paw_acc_4 = sklearn.metrics.accuracy_score(paws_df.actual, paws_df.model4, normalize=True)\n",
    "paw_acc_b = sklearn.metrics.accuracy_score(paws_df.actual, paws_df.baseline, normalize=True)\n",
    "\n",
    "paw_acc_1, paw_acc_2, paw_acc_3, paw_acc_4, paw_acc_b\n",
    "\n",
    "# this function returns same vals as the manual method"
   ]
  },
  {
   "cell_type": "code",
   "execution_count": 48,
   "id": "ac5652aa",
   "metadata": {},
   "outputs": [
    {
     "data": {
      "text/plain": [
       "['model1', 'model2', 'model3', 'model4', 'baseline']"
      ]
     },
     "execution_count": 48,
     "metadata": {},
     "output_type": "execute_result"
    }
   ],
   "source": [
    "# sklearn.metrics.precision_score\n",
    "paw_cols = paws_df.columns.tolist()[1:]\n",
    "# def get_precision_score(columns):\n",
    "#     paw_precisions = []\n",
    "#     for col in columns:\n",
    "#         paw_precisions.append(sklearn.metrics.precision_score(paws_df.actual, paws_df['col']))\n",
    "#     return paw_precisions\n",
    "# paw_precisions = get_precision_score(paw_cols)\n",
    "paw_cols"
   ]
  }
 ],
 "metadata": {
  "kernelspec": {
   "display_name": "Python 3 (ipykernel)",
   "language": "python",
   "name": "python3"
  },
  "language_info": {
   "codemirror_mode": {
    "name": "ipython",
    "version": 3
   },
   "file_extension": ".py",
   "mimetype": "text/x-python",
   "name": "python",
   "nbconvert_exporter": "python",
   "pygments_lexer": "ipython3",
   "version": "3.9.13"
  }
 },
 "nbformat": 4,
 "nbformat_minor": 5
}
