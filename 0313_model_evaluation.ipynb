{
 "cells": [
  {
   "cell_type": "markdown",
   "id": "a590d9a7",
   "metadata": {},
   "source": [
    "# Evaluating Model Performance Exercises"
   ]
  },
  {
   "cell_type": "code",
   "execution_count": 27,
   "id": "988424de",
   "metadata": {},
   "outputs": [],
   "source": [
    "import numpy as np\n",
    "import seaborn as sns\n",
    "import scipy.stats as stats\n",
    "import pandas as pd\n",
    "import matplotlib.pyplot as plt\n",
    "import itertools\n",
    "# import env\n",
    "from math import sqrt\n",
    "# to turn off pink warning boxes basically for display purposes in class\n",
    "import warnings\n",
    "warnings.filterwarnings('ignore')\n",
    "\n",
    "# import splitting and imputing functions\n",
    "from sklearn.model_selection import train_test_split\n",
    "from sklearn.impute import SimpleImputer\n",
    "\n",
    "# confusion matrix\n",
    "import sklearn.metrics\n",
    "\n",
    "# to see local file system\n",
    "import os\n",
    "\n",
    "# import our own acquire module\n",
    "import acquire"
   ]
  },
  {
   "cell_type": "markdown",
   "id": "0b6af340",
   "metadata": {},
   "source": [
    "#### 2. Given the following confusion matrix, evaluate (by hand) the model's performance.\n",
    "\n"
   ]
  },
  {
   "cell_type": "code",
   "execution_count": null,
   "id": "bac1321a",
   "metadata": {},
   "outputs": [],
   "source": [
    "|               | pred dog   | pred cat   |\n",
    "|:------------  |-----------:|-----------:|\n",
    "| actual dog    |         46 |         7  |\n",
    "| actual cat    |         13 |         34 |\n"
   ]
  },
  {
   "cell_type": "markdown",
   "id": "a9a6ad88",
   "metadata": {},
   "source": [
    "- In the context of this problem, what is a false positive?\n",
    "\n",
    "First, I would need to choose what constitutes a positive result. In this case I choose 'dog' as positive and 'cat' as negative. Then a false positive would be where the model predicted a positive(dog), but the actual value was a negative(cat)\n"
   ]
  },
  {
   "cell_type": "markdown",
   "id": "15f42f42",
   "metadata": {},
   "source": [
    "- In the context of this problem, what is a false negative?\n",
    "\n",
    "A false negative would be where the model predicted a negative(cat) and the actual value was a positive(dog)\n"
   ]
  },
  {
   "cell_type": "markdown",
   "id": "62179957",
   "metadata": {},
   "source": [
    "- How would you describe this model?\n",
    "\n",
    "The model is 80% accurate compared to 53% for the baseline model. It is a relatively accurate model\n",
    "The model has a precision of .8679\n",
    "The model recall is .7797\n"
   ]
  },
  {
   "cell_type": "code",
   "execution_count": 88,
   "id": "07eab833",
   "metadata": {},
   "outputs": [
    {
     "data": {
      "text/plain": [
       "(0.8, 0.8679245283018868, 0.7796610169491526)"
      ]
     },
     "execution_count": 88,
     "metadata": {},
     "output_type": "execute_result"
    }
   ],
   "source": [
    "tp = 46\n",
    "fn = 7\n",
    "fp = 13\n",
    "tn = 34\n",
    "\n",
    "accuracy = (tp + tn)/(tp + tn + fn + fp)\n",
    "precision = tp/(tp + fn)\n",
    "recall = tp/(tp + fp)\n",
    "\n",
    "accuracy, precision, recall"
   ]
  },
  {
   "cell_type": "code",
   "execution_count": 85,
   "id": "b5896693",
   "metadata": {},
   "outputs": [
    {
     "data": {
      "text/plain": [
       "{'accuracy': 0.8,\n",
       " 'precision': 0.8679245283018868,\n",
       " 'recall': 0.7796610169491526}"
      ]
     },
     "execution_count": 85,
     "metadata": {},
     "output_type": "execute_result"
    }
   ],
   "source": [
    "outs = accuracy, precision, recall\n",
    "labels = ['accuracy', 'precision', 'recall']\n",
    "dict(zip(labels, outs))"
   ]
  },
  {
   "cell_type": "markdown",
   "id": "49a5178d",
   "metadata": {},
   "source": [
    "#### 3. You are working as a data scientist working for Codeup Cody Creator (C3 for short), a rubber-duck manufacturing plant. Unfortunately, some of the rubber ducks that are produced will have defects. Your team has built several models that try to predict those defects, and the data from their predictions can be found here. Use the predictions dataset and pandas to help answer the following questions:\n"
   ]
  },
  {
   "cell_type": "markdown",
   "id": "729cb3a6",
   "metadata": {},
   "source": [
    "- An internal team wants to investigate the cause of the manufacturing defects. They tell you that they want to identify as many of the ducks that have a defect as possible. Which evaluation metric would be appropriate here? \n",
    "\n",
    "In this case, it is likely that the percentage of ducks with defects is a much smaller class than those without defects. Also, it is likely more important to this company to catch all of the defects, even if that results in more false positives(detecting a defect when there is none. So, for this project, I will assign positive to 'has a defect' and negative to 'no defects'. I want to maximize the amount of True Positive detections so the metric I will use is Recall which measures the number of True Positives(correctly predicted defects) against the total actual positives(TP + FN).\n",
    "\n",
    "- Which model would be the best fit for this use case?\n",
    "\n",
    "Model3 is best with a recall of .8125"
   ]
  },
  {
   "cell_type": "code",
   "execution_count": 5,
   "id": "73a14255",
   "metadata": {},
   "outputs": [
    {
     "data": {
      "text/html": [
       "<div>\n",
       "<style scoped>\n",
       "    .dataframe tbody tr th:only-of-type {\n",
       "        vertical-align: middle;\n",
       "    }\n",
       "\n",
       "    .dataframe tbody tr th {\n",
       "        vertical-align: top;\n",
       "    }\n",
       "\n",
       "    .dataframe thead th {\n",
       "        text-align: right;\n",
       "    }\n",
       "</style>\n",
       "<table border=\"1\" class=\"dataframe\">\n",
       "  <thead>\n",
       "    <tr style=\"text-align: right;\">\n",
       "      <th></th>\n",
       "      <th>actual</th>\n",
       "      <th>model1</th>\n",
       "      <th>model2</th>\n",
       "      <th>model3</th>\n",
       "    </tr>\n",
       "  </thead>\n",
       "  <tbody>\n",
       "    <tr>\n",
       "      <th>0</th>\n",
       "      <td>No Defect</td>\n",
       "      <td>No Defect</td>\n",
       "      <td>Defect</td>\n",
       "      <td>No Defect</td>\n",
       "    </tr>\n",
       "    <tr>\n",
       "      <th>1</th>\n",
       "      <td>No Defect</td>\n",
       "      <td>No Defect</td>\n",
       "      <td>Defect</td>\n",
       "      <td>Defect</td>\n",
       "    </tr>\n",
       "    <tr>\n",
       "      <th>2</th>\n",
       "      <td>No Defect</td>\n",
       "      <td>No Defect</td>\n",
       "      <td>Defect</td>\n",
       "      <td>No Defect</td>\n",
       "    </tr>\n",
       "    <tr>\n",
       "      <th>3</th>\n",
       "      <td>No Defect</td>\n",
       "      <td>Defect</td>\n",
       "      <td>Defect</td>\n",
       "      <td>Defect</td>\n",
       "    </tr>\n",
       "    <tr>\n",
       "      <th>4</th>\n",
       "      <td>No Defect</td>\n",
       "      <td>No Defect</td>\n",
       "      <td>Defect</td>\n",
       "      <td>No Defect</td>\n",
       "    </tr>\n",
       "    <tr>\n",
       "      <th>...</th>\n",
       "      <td>...</td>\n",
       "      <td>...</td>\n",
       "      <td>...</td>\n",
       "      <td>...</td>\n",
       "    </tr>\n",
       "    <tr>\n",
       "      <th>195</th>\n",
       "      <td>No Defect</td>\n",
       "      <td>No Defect</td>\n",
       "      <td>Defect</td>\n",
       "      <td>Defect</td>\n",
       "    </tr>\n",
       "    <tr>\n",
       "      <th>196</th>\n",
       "      <td>Defect</td>\n",
       "      <td>Defect</td>\n",
       "      <td>No Defect</td>\n",
       "      <td>No Defect</td>\n",
       "    </tr>\n",
       "    <tr>\n",
       "      <th>197</th>\n",
       "      <td>No Defect</td>\n",
       "      <td>No Defect</td>\n",
       "      <td>No Defect</td>\n",
       "      <td>No Defect</td>\n",
       "    </tr>\n",
       "    <tr>\n",
       "      <th>198</th>\n",
       "      <td>No Defect</td>\n",
       "      <td>No Defect</td>\n",
       "      <td>Defect</td>\n",
       "      <td>Defect</td>\n",
       "    </tr>\n",
       "    <tr>\n",
       "      <th>199</th>\n",
       "      <td>No Defect</td>\n",
       "      <td>No Defect</td>\n",
       "      <td>No Defect</td>\n",
       "      <td>Defect</td>\n",
       "    </tr>\n",
       "  </tbody>\n",
       "</table>\n",
       "<p>200 rows × 4 columns</p>\n",
       "</div>"
      ],
      "text/plain": [
       "        actual     model1     model2     model3\n",
       "0    No Defect  No Defect     Defect  No Defect\n",
       "1    No Defect  No Defect     Defect     Defect\n",
       "2    No Defect  No Defect     Defect  No Defect\n",
       "3    No Defect     Defect     Defect     Defect\n",
       "4    No Defect  No Defect     Defect  No Defect\n",
       "..         ...        ...        ...        ...\n",
       "195  No Defect  No Defect     Defect     Defect\n",
       "196     Defect     Defect  No Defect  No Defect\n",
       "197  No Defect  No Defect  No Defect  No Defect\n",
       "198  No Defect  No Defect     Defect     Defect\n",
       "199  No Defect  No Defect  No Defect     Defect\n",
       "\n",
       "[200 rows x 4 columns]"
      ]
     },
     "execution_count": 5,
     "metadata": {},
     "output_type": "execute_result"
    }
   ],
   "source": [
    "duck_df = pd.read_csv('c3.csv')\n",
    "duck_df"
   ]
  },
  {
   "cell_type": "code",
   "execution_count": 78,
   "id": "7b2570ac",
   "metadata": {},
   "outputs": [
    {
     "data": {
      "text/plain": [
       "(0.5, 0.5625, 0.8125)"
      ]
     },
     "execution_count": 78,
     "metadata": {},
     "output_type": "execute_result"
    }
   ],
   "source": [
    "# Recall metric needs True Positives in numerator so subset is the True Positives:\n",
    "\n",
    "duck_subset = duck_df[duck_df.actual == 'Defect']\n",
    "\n",
    "tp_1_recall = (duck_subset.model1 == duck_subset.actual).mean()\n",
    "tp_1_recall\n",
    "\n",
    "tp_2_recall = (duck_subset.model2 == duck_subset.actual).mean()\n",
    "\n",
    "tp_3_recall = (duck_subset.model3 == duck_subset.actual).mean()\n",
    "\n",
    "tp_1_recall, tp_2_recall, tp_3_recall\n"
   ]
  },
  {
   "cell_type": "markdown",
   "id": "d124d6c6",
   "metadata": {},
   "source": [
    "- Recently several stories in the local news have come out highlighting customers who received a rubber duck with a defect, and portraying C3 in a bad light. The PR team has decided to launch a program that gives customers with a defective duck a vacation to Hawaii. They need you to predict which ducks will have defects, but tell you the really don't want to accidentally give out a vacation package when the duck really doesn't have a defect. Which evaluation metric would be appropriate here? Which model would be the best fit for this use case?\n",
    "\n",
    "Precision would reduce false positives and save the company money (debatably, due to further bad PR v. recall.) Model 1 has the highest precision.\n"
   ]
  },
  {
   "cell_type": "code",
   "execution_count": 92,
   "id": "08ac37ee",
   "metadata": {},
   "outputs": [
    {
     "data": {
      "text/plain": [
       "(0.8, 0.1, 0.13131313131313133)"
      ]
     },
     "execution_count": 92,
     "metadata": {},
     "output_type": "execute_result"
    }
   ],
   "source": [
    "# would use precision to incentivize efficient detection of ducks (debatably)\n",
    "pos_preds_1 = duck_df[duck_df.model1 == 'Defect']\n",
    "pos_preds_2 = duck_df[duck_df.model2 == 'Defect']\n",
    "pos_preds_3 = duck_df[duck_df.model3 == 'Defect']\n",
    "\n",
    "mod1_prec = (pos_preds_1.actual == pos_preds_1.model1).mean()\n",
    "mod2_prec = (pos_preds_2.actual == pos_preds_2.model2).mean()\n",
    "mod3_prec = (pos_preds_3.actual == pos_preds_3.model3).mean()\n",
    "\n",
    "mod1_prec, mod2_prec, mod3_prec"
   ]
  },
  {
   "cell_type": "markdown",
   "id": "059dbc30",
   "metadata": {},
   "source": [
    "#### 4. You are working as a data scientist for Gives You Paws ™, a subscription based service that shows you cute pictures of dogs or cats (or both for an additional fee). At Gives You Paws, anyone can upload pictures of their cats or dogs. The photos are then put through a two step process. First an automated algorithm tags pictures as either a cat or a dog (Phase I). Next, the photos that have been initially identified are put through another round of review, possibly with some human oversight, before being presented to the users (Phase II). Several models have already been developed with the data, and you can find their results here. Given this dataset, use pandas to create a baseline model (i.e. a model that just predicts the most common class) and answer the following questions:\n",
    "\n"
   ]
  },
  {
   "cell_type": "markdown",
   "id": "e6e1894e",
   "metadata": {},
   "source": [
    "##### a. In terms of accuracy, how do the various models compare to the baseline model? Are any of the models better than the baseline? \n",
    "\n",
    "Model1 is the most accurate at .8074. Models 1 and 4 both beat baseline.\n"
   ]
  },
  {
   "cell_type": "code",
   "execution_count": 15,
   "id": "d5285deb",
   "metadata": {},
   "outputs": [
    {
     "data": {
      "text/html": [
       "<div>\n",
       "<style scoped>\n",
       "    .dataframe tbody tr th:only-of-type {\n",
       "        vertical-align: middle;\n",
       "    }\n",
       "\n",
       "    .dataframe tbody tr th {\n",
       "        vertical-align: top;\n",
       "    }\n",
       "\n",
       "    .dataframe thead th {\n",
       "        text-align: right;\n",
       "    }\n",
       "</style>\n",
       "<table border=\"1\" class=\"dataframe\">\n",
       "  <thead>\n",
       "    <tr style=\"text-align: right;\">\n",
       "      <th></th>\n",
       "      <th>actual</th>\n",
       "      <th>model1</th>\n",
       "      <th>model2</th>\n",
       "      <th>model3</th>\n",
       "      <th>model4</th>\n",
       "    </tr>\n",
       "  </thead>\n",
       "  <tbody>\n",
       "    <tr>\n",
       "      <th>0</th>\n",
       "      <td>cat</td>\n",
       "      <td>cat</td>\n",
       "      <td>dog</td>\n",
       "      <td>cat</td>\n",
       "      <td>dog</td>\n",
       "    </tr>\n",
       "    <tr>\n",
       "      <th>1</th>\n",
       "      <td>dog</td>\n",
       "      <td>dog</td>\n",
       "      <td>cat</td>\n",
       "      <td>cat</td>\n",
       "      <td>dog</td>\n",
       "    </tr>\n",
       "    <tr>\n",
       "      <th>2</th>\n",
       "      <td>dog</td>\n",
       "      <td>cat</td>\n",
       "      <td>cat</td>\n",
       "      <td>cat</td>\n",
       "      <td>dog</td>\n",
       "    </tr>\n",
       "    <tr>\n",
       "      <th>3</th>\n",
       "      <td>dog</td>\n",
       "      <td>dog</td>\n",
       "      <td>dog</td>\n",
       "      <td>cat</td>\n",
       "      <td>dog</td>\n",
       "    </tr>\n",
       "    <tr>\n",
       "      <th>4</th>\n",
       "      <td>cat</td>\n",
       "      <td>cat</td>\n",
       "      <td>cat</td>\n",
       "      <td>dog</td>\n",
       "      <td>dog</td>\n",
       "    </tr>\n",
       "    <tr>\n",
       "      <th>...</th>\n",
       "      <td>...</td>\n",
       "      <td>...</td>\n",
       "      <td>...</td>\n",
       "      <td>...</td>\n",
       "      <td>...</td>\n",
       "    </tr>\n",
       "    <tr>\n",
       "      <th>4995</th>\n",
       "      <td>dog</td>\n",
       "      <td>dog</td>\n",
       "      <td>dog</td>\n",
       "      <td>dog</td>\n",
       "      <td>dog</td>\n",
       "    </tr>\n",
       "    <tr>\n",
       "      <th>4996</th>\n",
       "      <td>dog</td>\n",
       "      <td>dog</td>\n",
       "      <td>cat</td>\n",
       "      <td>cat</td>\n",
       "      <td>dog</td>\n",
       "    </tr>\n",
       "    <tr>\n",
       "      <th>4997</th>\n",
       "      <td>dog</td>\n",
       "      <td>cat</td>\n",
       "      <td>cat</td>\n",
       "      <td>dog</td>\n",
       "      <td>dog</td>\n",
       "    </tr>\n",
       "    <tr>\n",
       "      <th>4998</th>\n",
       "      <td>cat</td>\n",
       "      <td>cat</td>\n",
       "      <td>cat</td>\n",
       "      <td>cat</td>\n",
       "      <td>dog</td>\n",
       "    </tr>\n",
       "    <tr>\n",
       "      <th>4999</th>\n",
       "      <td>dog</td>\n",
       "      <td>dog</td>\n",
       "      <td>dog</td>\n",
       "      <td>dog</td>\n",
       "      <td>dog</td>\n",
       "    </tr>\n",
       "  </tbody>\n",
       "</table>\n",
       "<p>5000 rows × 5 columns</p>\n",
       "</div>"
      ],
      "text/plain": [
       "     actual model1 model2 model3 model4\n",
       "0       cat    cat    dog    cat    dog\n",
       "1       dog    dog    cat    cat    dog\n",
       "2       dog    cat    cat    cat    dog\n",
       "3       dog    dog    dog    cat    dog\n",
       "4       cat    cat    cat    dog    dog\n",
       "...     ...    ...    ...    ...    ...\n",
       "4995    dog    dog    dog    dog    dog\n",
       "4996    dog    dog    cat    cat    dog\n",
       "4997    dog    cat    cat    dog    dog\n",
       "4998    cat    cat    cat    cat    dog\n",
       "4999    dog    dog    dog    dog    dog\n",
       "\n",
       "[5000 rows x 5 columns]"
      ]
     },
     "execution_count": 15,
     "metadata": {},
     "output_type": "execute_result"
    }
   ],
   "source": [
    "paws_df = pd.read_csv('gives_you_paws.csv')\n",
    "paws_df"
   ]
  },
  {
   "cell_type": "code",
   "execution_count": 17,
   "id": "0ec00e5f",
   "metadata": {},
   "outputs": [
    {
     "data": {
      "text/html": [
       "<div>\n",
       "<style scoped>\n",
       "    .dataframe tbody tr th:only-of-type {\n",
       "        vertical-align: middle;\n",
       "    }\n",
       "\n",
       "    .dataframe tbody tr th {\n",
       "        vertical-align: top;\n",
       "    }\n",
       "\n",
       "    .dataframe thead th {\n",
       "        text-align: right;\n",
       "    }\n",
       "</style>\n",
       "<table border=\"1\" class=\"dataframe\">\n",
       "  <thead>\n",
       "    <tr style=\"text-align: right;\">\n",
       "      <th></th>\n",
       "      <th>actual</th>\n",
       "      <th>model1</th>\n",
       "      <th>model2</th>\n",
       "      <th>model3</th>\n",
       "      <th>model4</th>\n",
       "    </tr>\n",
       "  </thead>\n",
       "  <tbody>\n",
       "    <tr>\n",
       "      <th>count</th>\n",
       "      <td>5000</td>\n",
       "      <td>5000</td>\n",
       "      <td>5000</td>\n",
       "      <td>5000</td>\n",
       "      <td>5000</td>\n",
       "    </tr>\n",
       "    <tr>\n",
       "      <th>unique</th>\n",
       "      <td>2</td>\n",
       "      <td>2</td>\n",
       "      <td>2</td>\n",
       "      <td>2</td>\n",
       "      <td>2</td>\n",
       "    </tr>\n",
       "    <tr>\n",
       "      <th>top</th>\n",
       "      <td>dog</td>\n",
       "      <td>dog</td>\n",
       "      <td>cat</td>\n",
       "      <td>dog</td>\n",
       "      <td>dog</td>\n",
       "    </tr>\n",
       "    <tr>\n",
       "      <th>freq</th>\n",
       "      <td>3254</td>\n",
       "      <td>2937</td>\n",
       "      <td>3212</td>\n",
       "      <td>2508</td>\n",
       "      <td>4253</td>\n",
       "    </tr>\n",
       "  </tbody>\n",
       "</table>\n",
       "</div>"
      ],
      "text/plain": [
       "       actual model1 model2 model3 model4\n",
       "count    5000   5000   5000   5000   5000\n",
       "unique      2      2      2      2      2\n",
       "top       dog    dog    cat    dog    dog\n",
       "freq     3254   2937   3212   2508   4253"
      ]
     },
     "execution_count": 17,
     "metadata": {},
     "output_type": "execute_result"
    }
   ],
   "source": [
    "paws_df.describe()"
   ]
  },
  {
   "cell_type": "code",
   "execution_count": 19,
   "id": "a191365b",
   "metadata": {},
   "outputs": [],
   "source": [
    "paws_df['baseline'] = 'dog'"
   ]
  },
  {
   "cell_type": "code",
   "execution_count": 21,
   "id": "fecf00b8",
   "metadata": {},
   "outputs": [
    {
     "data": {
      "text/plain": [
       "(0.8074, 0.6304, 0.5096, 0.7426, 0.6508)"
      ]
     },
     "execution_count": 21,
     "metadata": {},
     "output_type": "execute_result"
    }
   ],
   "source": [
    "\n",
    "paws_m1_acc = (paws_df.model1 == paws_df.actual).mean()\n",
    "paws_m2_acc = (paws_df.model2 == paws_df.actual).mean()\n",
    "paws_m3_acc = (paws_df.model3 == paws_df.actual).mean()\n",
    "paws_m4_acc = (paws_df.model4 == paws_df.actual).mean()\n",
    "paws_base_acc = (paws_df.baseline == paws_df.actual).mean()\n",
    "paws_m1_acc, paws_m2_acc, paws_m3_acc, paws_m4_acc, paws_base_acc"
   ]
  },
  {
   "cell_type": "markdown",
   "id": "b4c8f49d",
   "metadata": {},
   "source": [
    "##### b. Suppose you are working on a team that solely deals with dog pictures. Which of these models would you recommend?\n",
    "\n",
    "Accuracy is probably a pretty good indicator as the classes are not terribly balanced at 65% dogs %35 cats. Maybe for our dog team though, we would want to know the precision of specifically identifying dogs.\n",
    "\n",
    "I would recommend model2 as it is the most precise at 0.8931, but model1 may be better overall with a 0.8900 precision, but a much higher accuracy."
   ]
  },
  {
   "cell_type": "code",
   "execution_count": 24,
   "id": "6f4d7a47",
   "metadata": {},
   "outputs": [
    {
     "data": {
      "text/plain": [
       "(0.8900238338440586,\n",
       " 0.8931767337807607,\n",
       " 0.6598883572567783,\n",
       " 0.7312485304490948,\n",
       " 0.6508)"
      ]
     },
     "execution_count": 24,
     "metadata": {},
     "output_type": "execute_result"
    }
   ],
   "source": [
    "paws_sub_pre_1 = paws_df[paws_df.model1 == 'dog']\n",
    "paws_sub_pre_2 = paws_df[paws_df.model2 == 'dog']\n",
    "paws_sub_pre_3 = paws_df[paws_df.model3 == 'dog']\n",
    "paws_sub_pre_4 = paws_df[paws_df.model4 == 'dog']\n",
    "paws_sub_pre_b = paws_df[paws_df.baseline == 'dog']\n",
    "\n",
    "paws_pre_1 = (paws_sub_pre_1.model1 == paws_sub_pre_1.actual).mean()\n",
    "paws_pre_2 = (paws_sub_pre_2.model2 == paws_sub_pre_2.actual).mean()\n",
    "paws_pre_3 = (paws_sub_pre_3.model3 == paws_sub_pre_3.actual).mean()\n",
    "paws_pre_4 = (paws_sub_pre_4.model4 == paws_sub_pre_4.actual).mean()\n",
    "paws_pre_b = (paws_sub_pre_b.baseline == paws_sub_pre_b.actual).mean()\n",
    "\n",
    "paws_pre_1, paws_pre_2, paws_pre_3, paws_pre_4, paws_pre_b"
   ]
  },
  {
   "cell_type": "markdown",
   "id": "e04cf0b0",
   "metadata": {},
   "source": [
    "##### c. Suppose you are working on a team that solely deals with cat pictures. Which of these models would you recommend?\n",
    "\n",
    "We would want to know the precision of specifically identifying cats.\n",
    "\n",
    "I would recommend model4 as it is the most precise at 0.8072, but model1 may be better overall with a 0.6898 precision, but a somewhat higher accuracy.\n"
   ]
  },
  {
   "cell_type": "code",
   "execution_count": 93,
   "id": "343702ec",
   "metadata": {},
   "outputs": [
    {
     "data": {
      "text/plain": [
       "(0.6897721764420747, 0.4841220423412204, 0.358346709470305, 0.8072289156626506)"
      ]
     },
     "execution_count": 93,
     "metadata": {},
     "output_type": "execute_result"
    }
   ],
   "source": [
    "# success is now cat, so we will reverse the precision calcs.\n",
    "\n",
    "paws_sub_pre_1c = paws_df[paws_df.model1 == 'cat']\n",
    "paws_sub_pre_2c = paws_df[paws_df.model2 == 'cat']\n",
    "paws_sub_pre_3c = paws_df[paws_df.model3 == 'cat']\n",
    "paws_sub_pre_4c = paws_df[paws_df.model4 == 'cat']\n",
    "\n",
    "paws_pre_1c = (paws_sub_pre_1c.model1 == paws_sub_pre_1c.actual).mean()\n",
    "paws_pre_2c = (paws_sub_pre_2c.model2 == paws_sub_pre_2c.actual).mean()\n",
    "paws_pre_3c = (paws_sub_pre_3c.model3 == paws_sub_pre_3c.actual).mean()\n",
    "paws_pre_4c = (paws_sub_pre_4c.model4 == paws_sub_pre_4c.actual).mean()\n",
    "\n",
    "paws_pre_1c, paws_pre_2c, paws_pre_3c, paws_pre_4c"
   ]
  },
  {
   "cell_type": "markdown",
   "id": "2bf381db",
   "metadata": {},
   "source": [
    "##### 5. Follow the links below to read the documentation about each function, then apply those functions to the data from the previous problem.\n",
    "\n"
   ]
  },
  {
   "cell_type": "code",
   "execution_count": 34,
   "id": "82b5c596",
   "metadata": {},
   "outputs": [
    {
     "data": {
      "text/plain": [
       "(0.8074, 0.6304, 0.5096, 0.7426, 0.6508)"
      ]
     },
     "execution_count": 34,
     "metadata": {},
     "output_type": "execute_result"
    }
   ],
   "source": [
    "# sklearn.metrics.accuracy_score\n",
    "paw_acc_1 = sklearn.metrics.accuracy_score(paws_df.actual, paws_df.model1, normalize=True)\n",
    "paw_acc_2 = sklearn.metrics.accuracy_score(paws_df.actual, paws_df.model2, normalize=True)\n",
    "paw_acc_3 = sklearn.metrics.accuracy_score(paws_df.actual, paws_df.model3, normalize=True)\n",
    "paw_acc_4 = sklearn.metrics.accuracy_score(paws_df.actual, paws_df.model4, normalize=True)\n",
    "paw_acc_b = sklearn.metrics.accuracy_score(paws_df.actual, paws_df.baseline, normalize=True)\n",
    "\n",
    "paw_acc_1, paw_acc_2, paw_acc_3, paw_acc_4, paw_acc_b\n",
    "\n",
    "# this function returns same vals as the manual method"
   ]
  },
  {
   "cell_type": "code",
   "execution_count": 95,
   "id": "f6cb9b25",
   "metadata": {},
   "outputs": [
    {
     "data": {
      "text/plain": [
       "[0.8900238338440586,\n",
       " 0.8931767337807607,\n",
       " 0.6598883572567783,\n",
       " 0.7312485304490948,\n",
       " 0.6508]"
      ]
     },
     "execution_count": 95,
     "metadata": {},
     "output_type": "execute_result"
    }
   ],
   "source": [
    "# sklearn.metrics.precision_score\n",
    "paw_cols = paws_df.columns.tolist()[1:]\n",
    "paw_cols\n",
    "sklearn.metrics.precision_score(paws_df.actual, paws_df.model1, pos_label='dog')\n",
    "\n",
    "paw_precisions = lambda x: sklearn.metrics.precision_score(paws_df.actual, x, pos_label='dog')\n",
    "# #     return paw_precisions\n",
    "\n",
    "precisions = []\n",
    "for col in paw_cols:\n",
    "    precisions.append(paw_precisions(paws_df[col]))\n",
    "precisions"
   ]
  },
  {
   "cell_type": "code",
   "execution_count": 96,
   "id": "83b160a5",
   "metadata": {},
   "outputs": [
    {
     "data": {
      "text/plain": [
       "{'model1': 0.8900238338440586,\n",
       " 'model2': 0.8931767337807607,\n",
       " 'model3': 0.6598883572567783,\n",
       " 'model4': 0.7312485304490948,\n",
       " 'baseline': 0.6508}"
      ]
     },
     "execution_count": 96,
     "metadata": {},
     "output_type": "execute_result"
    }
   ],
   "source": [
    "dict(zip(paw_cols, precisions))"
   ]
  },
  {
   "cell_type": "code",
   "execution_count": 97,
   "id": "def3db08",
   "metadata": {},
   "outputs": [
    {
     "data": {
      "text/plain": [
       "[0.803318992009834,\n",
       " 0.49078057775046097,\n",
       " 0.5086047940995697,\n",
       " 0.9557467732022127,\n",
       " 1.0]"
      ]
     },
     "execution_count": 97,
     "metadata": {},
     "output_type": "execute_result"
    }
   ],
   "source": [
    "# sklearn.metrics.recall_score\n",
    "paw_cols = paws_df.columns.tolist()[1:]\n",
    "paw_cols\n",
    "\n",
    "paw_recall = lambda x: sklearn.metrics.recall_score(paws_df.actual, x, pos_label='dog')\n",
    "# #     return recall score of 'cat' as positive\n",
    "\n",
    "recalls = []\n",
    "for col in paw_cols:\n",
    "    recalls.append(paw_recall(paws_df[col]))\n",
    "recalls"
   ]
  },
  {
   "cell_type": "code",
   "execution_count": 98,
   "id": "7c8afde0",
   "metadata": {},
   "outputs": [
    {
     "data": {
      "text/plain": [
       "{'model1': 0.803318992009834,\n",
       " 'model2': 0.49078057775046097,\n",
       " 'model3': 0.5086047940995697,\n",
       " 'model4': 0.9557467732022127,\n",
       " 'baseline': 1.0}"
      ]
     },
     "execution_count": 98,
     "metadata": {},
     "output_type": "execute_result"
    }
   ],
   "source": [
    "dict(zip(paw_cols, recalls))"
   ]
  },
  {
   "cell_type": "code",
   "execution_count": 99,
   "id": "7aa7f8be",
   "metadata": {},
   "outputs": [
    {
     "name": "stdout",
     "output_type": "stream",
     "text": [
      "              precision    recall  f1-score   support\n",
      "\n",
      "         cat       0.69      0.82      0.75      1746\n",
      "         dog       0.89      0.80      0.84      3254\n",
      "\n",
      "    accuracy                           0.81      5000\n",
      "   macro avg       0.79      0.81      0.80      5000\n",
      "weighted avg       0.82      0.81      0.81      5000\n",
      "\n"
     ]
    }
   ],
   "source": [
    "# sklearn.metrics.classification_report\n",
    "print(sklearn.metrics.classification_report(paws_df.actual, paws_df.model1))"
   ]
  },
  {
   "cell_type": "code",
   "execution_count": 100,
   "id": "561d7ce0",
   "metadata": {},
   "outputs": [
    {
     "name": "stdout",
     "output_type": "stream",
     "text": [
      "              precision    recall  f1-score   support\n",
      "\n",
      "         cat       0.48      0.89      0.63      1746\n",
      "         dog       0.89      0.49      0.63      3254\n",
      "\n",
      "    accuracy                           0.63      5000\n",
      "   macro avg       0.69      0.69      0.63      5000\n",
      "weighted avg       0.75      0.63      0.63      5000\n",
      "\n"
     ]
    }
   ],
   "source": [
    "print(sklearn.metrics.classification_report(paws_df.actual, paws_df.model2))"
   ]
  },
  {
   "cell_type": "code",
   "execution_count": 101,
   "id": "fe8c2cde",
   "metadata": {},
   "outputs": [
    {
     "name": "stdout",
     "output_type": "stream",
     "text": [
      "              precision    recall  f1-score   support\n",
      "\n",
      "         cat       0.36      0.51      0.42      1746\n",
      "         dog       0.66      0.51      0.57      3254\n",
      "\n",
      "    accuracy                           0.51      5000\n",
      "   macro avg       0.51      0.51      0.50      5000\n",
      "weighted avg       0.55      0.51      0.52      5000\n",
      "\n"
     ]
    }
   ],
   "source": [
    "print(sklearn.metrics.classification_report(paws_df.actual, paws_df.model3))"
   ]
  },
  {
   "cell_type": "code",
   "execution_count": 102,
   "id": "d7214ac7",
   "metadata": {},
   "outputs": [
    {
     "name": "stdout",
     "output_type": "stream",
     "text": [
      "              precision    recall  f1-score   support\n",
      "\n",
      "         cat       0.81      0.35      0.48      1746\n",
      "         dog       0.73      0.96      0.83      3254\n",
      "\n",
      "    accuracy                           0.74      5000\n",
      "   macro avg       0.77      0.65      0.66      5000\n",
      "weighted avg       0.76      0.74      0.71      5000\n",
      "\n"
     ]
    }
   ],
   "source": [
    "print(sklearn.metrics.classification_report(paws_df.actual, paws_df.model4))"
   ]
  },
  {
   "cell_type": "code",
   "execution_count": 103,
   "id": "23674aa4",
   "metadata": {},
   "outputs": [
    {
     "name": "stdout",
     "output_type": "stream",
     "text": [
      "              precision    recall  f1-score   support\n",
      "\n",
      "         cat       0.00      0.00      0.00      1746\n",
      "         dog       0.65      1.00      0.79      3254\n",
      "\n",
      "    accuracy                           0.65      5000\n",
      "   macro avg       0.33      0.50      0.39      5000\n",
      "weighted avg       0.42      0.65      0.51      5000\n",
      "\n"
     ]
    }
   ],
   "source": [
    "print(sklearn.metrics.classification_report(paws_df.actual, paws_df.baseline))"
   ]
  },
  {
   "cell_type": "code",
   "execution_count": null,
   "id": "8751af1b",
   "metadata": {},
   "outputs": [],
   "source": [
    "# The actual values\n",
    "# The predicted values"
   ]
  }
 ],
 "metadata": {
  "kernelspec": {
   "display_name": "Python 3 (ipykernel)",
   "language": "python",
   "name": "python3"
  },
  "language_info": {
   "codemirror_mode": {
    "name": "ipython",
    "version": 3
   },
   "file_extension": ".py",
   "mimetype": "text/x-python",
   "name": "python",
   "nbconvert_exporter": "python",
   "pygments_lexer": "ipython3",
   "version": "3.9.13"
  }
 },
 "nbformat": 4,
 "nbformat_minor": 5
}
