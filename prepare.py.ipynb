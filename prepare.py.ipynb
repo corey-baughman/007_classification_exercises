{
 "cells": [
  {
   "cell_type": "code",
   "execution_count": null,
   "id": "fa888fc7",
   "metadata": {},
   "outputs": [],
   "source": [
    "import env\n",
    "import acquire as acq\n",
    "import pandas as pd\n",
    "import matplotlib as plt\n",
    "import os\n",
    "\n",
    "def prep_iris():\n",
    "    '''\n",
    "    function takes in data from aquire.get_titanic_data(),\n",
    "    applies preparatory steps to the dataset, then splits\n",
    "    the dataset into train, validate, and test groups.\n",
    "    '''\n",
    "    iris_df = acq.get_iris_data()\n",
    "    iris_df.drop(['species_id'], axis=1, inplace=True)\n",
    "    iris_df.rename(columns={'species_name' : 'species'}, inplace=True)\n",
    "    dummy_df = pd.get_dummies(iris_df.species, dummy_na=False, drop_first=True)\n",
    "    iris_df = pd.concat([iris_df, dummy_df], axis=1)\n",
    "    return iris_df\n",
    "\n",
    "\n",
    "def prep_titanic():\n",
    "    '''\n",
    "    function takes in data from aquire.get_titanic_data(),\n",
    "    applies preparatory steps to the dataset, then splits\n",
    "    the dataset into train, validate, and test groups'''\n",
    "    titanic_df = acq.get_titanic_data()\n",
    "    titanic_df.drop(columns=['passenger_id', 'class', 'embarked', 'deck'], inplace=True)\n",
    "    dummy_df1 = pd.get_dummies(titanic_df[['embark_town', 'sex']], \n",
    "                           dummy_na=False, drop_first=True)\n",
    "    return titanic_df\n",
    "\n",
    "\n",
    "\n",
    "def split_data(df, stratify_target='target_col_name'):\n",
    "    '''\n",
    "    take in a DataFrame and return train, validate, and test DataFrames; \n",
    "    stratify on target column name. Return train, validate, test DataFrames.\n",
    "    '''\n",
    "    train_validate, test = train_test_split(df, test_size=.2, \n",
    "                                            random_state=9751, stratify=df[stratify_target])\n",
    "    train, validate = train_test_split(train_validate, \n",
    "                                       test_size=.3, \n",
    "                                       random_state=9751, \n",
    "                                       stratify=train_validate[stratify_target])\n",
    "    return train, validate, test\n",
    "\n"
   ]
  }
 ],
 "metadata": {
  "kernelspec": {
   "display_name": "Python 3 (ipykernel)",
   "language": "python",
   "name": "python3"
  },
  "language_info": {
   "codemirror_mode": {
    "name": "ipython",
    "version": 3
   },
   "file_extension": ".py",
   "mimetype": "text/x-python",
   "name": "python",
   "nbconvert_exporter": "python",
   "pygments_lexer": "ipython3",
   "version": "3.9.13"
  }
 },
 "nbformat": 4,
 "nbformat_minor": 5
}
