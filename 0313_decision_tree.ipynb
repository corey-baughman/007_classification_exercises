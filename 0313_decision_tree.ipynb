{
 "cells": [
  {
   "cell_type": "markdown",
   "id": "d1e777e8-f9dc-4f9c-bc81-6a9299c2190f",
   "metadata": {},
   "source": [
    "# Decision Tree Exercises"
   ]
  },
  {
   "cell_type": "code",
   "execution_count": 1,
   "id": "87f85783-0e4f-45c2-b9c1-c7d1c7b74f2d",
   "metadata": {},
   "outputs": [],
   "source": [
    "import numpy as np\n",
    "import seaborn as sns\n",
    "import scipy.stats as stats\n",
    "import pandas as pd\n",
    "import matplotlib.pyplot as plt\n",
    "import itertools\n",
    "from math import sqrt\n",
    "# to turn off pink warning boxes basically for display purposes in class\n",
    "# import warnings\n",
    "# warnings.filterwarnings('ignore')\n",
    "\n",
    "# import splitting and imputing functions\n",
    "from sklearn.model_selection import train_test_split\n",
    "from sklearn.impute import SimpleImputer\n",
    "from sklearn.tree import DecisionTreeClassifier, plot_tree\n",
    "from sklearn.metrics import classification_report\n",
    "from sklearn.metrics import confusion_matrix\n",
    "\n",
    "# to see local file system\n",
    "import os\n",
    "\n",
    "# import our own modules\n",
    "import env\n",
    "import acquire as a\n",
    "import prepare as p"
   ]
  },
  {
   "cell_type": "markdown",
   "id": "cf3e691f-870b-4ee8-b4f1-bf5c5c84f8da",
   "metadata": {},
   "source": [
    "#### Using the titanic data, in your classification-exercises repository, create a notebook, decision_tree.ipynb where you will do the following:\n",
    "\n"
   ]
  },
  {
   "cell_type": "code",
   "execution_count": 3,
   "id": "86d9afdf-6e8a-4465-9cf2-67939a112eb4",
   "metadata": {},
   "outputs": [],
   "source": [
    "ti = p.prep_titanic(a.get_titanic_data())\n",
    "\n",
    "# update split function and input here"
   ]
  },
  {
   "cell_type": "markdown",
   "id": "1f7b222d-6146-422e-a177-1216cdab3bff",
   "metadata": {},
   "source": [
    "##### 1. What is your baseline prediction? What is your baseline accuracy? remember: your baseline prediction for a classification problem is predicting the most prevelant class in the training dataset (the mode). When you make those predictions, what is your accuracy? This is your baseline accuracy.\n",
    "\n"
   ]
  },
  {
   "cell_type": "code",
   "execution_count": null,
   "id": "0ce831f9-3ac0-4247-b9dd-dbcb1aa0ea15",
   "metadata": {},
   "outputs": [],
   "source": [
    "# target = survived\n",
    "# majority class = everyone died"
   ]
  }
 ],
 "metadata": {
  "kernelspec": {
   "display_name": "Python 3 (ipykernel)",
   "language": "python",
   "name": "python3"
  },
  "language_info": {
   "codemirror_mode": {
    "name": "ipython",
    "version": 3
   },
   "file_extension": ".py",
   "mimetype": "text/x-python",
   "name": "python",
   "nbconvert_exporter": "python",
   "pygments_lexer": "ipython3",
   "version": "3.9.13"
  }
 },
 "nbformat": 4,
 "nbformat_minor": 5
}
